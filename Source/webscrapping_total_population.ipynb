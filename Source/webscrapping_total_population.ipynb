{
 "cells": [
  {
   "cell_type": "code",
   "execution_count": 5,
   "id": "3a301503-2858-48e3-a0c0-18115016702b",
   "metadata": {},
   "outputs": [],
   "source": [
    "#Web Scraping \n",
    "#import library yang dibutuhkan\n",
    "from ast import If\n",
    "from unicodedata import name\n",
    "import pandas as pd\n",
    "import requests\n",
    "from bs4 import BeautifulSoup\n",
    "import os.path\n",
    "from re import search\n",
    "from re import sub"
   ]
  },
  {
   "cell_type": "code",
   "execution_count": 6,
   "id": "22cb27d9-cdac-41e4-92fc-c5154f89d663",
   "metadata": {},
   "outputs": [
    {
     "ename": "NameError",
     "evalue": "name '__file__' is not defined",
     "output_type": "error",
     "traceback": [
      "\u001b[1;31m---------------------------------------------------------------------------\u001b[0m",
      "\u001b[1;31mNameError\u001b[0m                                 Traceback (most recent call last)",
      "Cell \u001b[1;32mIn [6], line 1\u001b[0m\n\u001b[1;32m----> 1\u001b[0m namefile \u001b[38;5;241m=\u001b[39m os\u001b[38;5;241m.\u001b[39mpath\u001b[38;5;241m.\u001b[39mbasename(\u001b[38;5;18;43m__file__\u001b[39;49m)[:\u001b[38;5;241m-\u001b[39m\u001b[38;5;241m3\u001b[39m]\n\u001b[0;32m      2\u001b[0m namefile \u001b[38;5;241m=\u001b[39m namefile[search(\u001b[38;5;124m\"\u001b[39m\u001b[38;5;124m_\u001b[39m\u001b[38;5;124m\"\u001b[39m, namefile)\u001b[38;5;241m.\u001b[39mstart()\u001b[38;5;241m+\u001b[39m\u001b[38;5;241m1\u001b[39m:]\n\u001b[0;32m      4\u001b[0m \u001b[38;5;66;03m#buatlah request ke website\u001b[39;00m\n",
      "\u001b[1;31mNameError\u001b[0m: name '__file__' is not defined"
     ]
    }
   ],
   "source": [
    "namefile = os.path.basename(__file__)[:-3] #baris ini untuk membaca nama file yang sedang dibuka saat ini. Baris ini akan terlihat error, tapi akan baik baik saja jika dijalankan di DevTools lainnya\n",
    "namefile = namefile[search(\"_\", namefile).start()+1:]\n",
    "\n",
    "#buatlah request ke website\n",
    "website_url = requests.get('https://id.wikipedia.org/wiki/Demografi_Indonesia').text\n",
    "soup = BeautifulSoup(website_url, 'html.parser')"
   ]
  },
  {
   "cell_type": "code",
   "execution_count": null,
   "id": "1608af22-1102-42cc-97a3-f29549b4cae3",
   "metadata": {},
   "outputs": [],
   "source": [
    "#ambil table dengan class 'wikitable sortable'\n",
    "# my_table = soup.find('table', {'class':'wikitable'})\n",
    "my_table = soup.find_all('table')[0]\n",
    "\n",
    "#cari data dengan tag 'td'\n",
    "links = my_table.find_all('td')"
   ]
  },
  {
   "cell_type": "code",
   "execution_count": null,
   "id": "13576209-7ad7-4bf4-aa93-067dde9bb069",
   "metadata": {},
   "outputs": [],
   "source": [
    "#buatlah lists kosong \n",
    "tahun = []\n",
    "populasi = []\n",
    "persentase = []"
   ]
  },
  {
   "cell_type": "code",
   "execution_count": null,
   "id": "c8fd0a0b-69c5-4ffe-ac7a-4e6c29dc177b",
   "metadata": {},
   "outputs": [],
   "source": [
    "#memasukkan data ke dalam list berdasarkan pola HTML\n",
    "for i, link in enumerate(links):\n",
    "\tif i in range(0, len(links), 4):\n",
    "\t\ttahun.append(link.get_text()[:-1])\n",
    "\tif i in range(1, len(links), 4):\n",
    "\t\tpopulasi.append(link.get_text()[:-1])\n",
    "\tif i in range(2, len(links), 4):\n",
    "\t\tnum = sub(',','.',link.get_text()[1:-2])\n",
    "\t\tprint(num)\n",
    "\t\ttry:\n",
    "\t\t\tfloat(num)\n",
    "\t\t\tpersentase.append(num)\n",
    "\t\texcept ValueError:\n",
    "\t\t\tpersentase.append(0)"
   ]
  },
  {
   "cell_type": "code",
   "execution_count": null,
   "id": "ba2bf3ac-71e7-4506-8a5c-6c66698bc769",
   "metadata": {},
   "outputs": [],
   "source": [
    "#buatlah DataFrame dan masukkan ke CSV\n",
    "df = pd.DataFrame()\n",
    "df['Tahun'] = tahun\n",
    "df['Populasi'] = populasi\n",
    "df['Persentase'] = persentase"
   ]
  },
  {
   "cell_type": "code",
   "execution_count": null,
   "id": "21f5c630-d5c9-4ea4-b566-22103da2c934",
   "metadata": {},
   "outputs": [],
   "source": [
    "#Simpan kedalam file CSV\n",
    "df.to_csv(namefile.title() +'.csv' , index=False, encoding='utf-8', quoting=1)\n",
    "print(df)"
   ]
  }
 ],
 "metadata": {
  "kernelspec": {
   "display_name": "Python 3 (ipykernel)",
   "language": "python",
   "name": "python3"
  },
  "language_info": {
   "codemirror_mode": {
    "name": "ipython",
    "version": 3
   },
   "file_extension": ".py",
   "mimetype": "text/x-python",
   "name": "python",
   "nbconvert_exporter": "python",
   "pygments_lexer": "ipython3",
   "version": "3.10.8"
  }
 },
 "nbformat": 4,
 "nbformat_minor": 5
}
