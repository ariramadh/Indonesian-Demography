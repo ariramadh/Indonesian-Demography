{
 "cells": [
  {
   "cell_type": "code",
   "execution_count": null,
   "id": "391be4c4-58a2-4d42-8280-6ec0a3a7e413",
   "metadata": {},
   "outputs": [],
   "source": [
    "#Web Scraping \n",
    "#import library yang dibutuhkan\n",
    "import pandas as pd\n",
    "import requests\n",
    "from bs4 import BeautifulSoup"
   ]
  },
  {
   "cell_type": "code",
   "execution_count": null,
   "id": "44e00cf1-b4ca-4922-aae6-635914522e79",
   "metadata": {},
   "outputs": [],
   "source": [
    "#buatlah request ke website\n",
    "website_url = requests.get('https://id.wikipedia.org/wiki/Demografi_Indonesia').text\n",
    "soup = BeautifulSoup(website_url, 'html.parser')"
   ]
  },
  {
   "cell_type": "code",
   "execution_count": null,
   "id": "92cc3552-5653-4f23-b1f9-2d462ca920b1",
   "metadata": {},
   "outputs": [],
   "source": [
    "#ambil table dengan class 'wikitable sortable'\n",
    "my_table = soup.find('table', {'class':'wikitable sortable'})"
   ]
  },
  {
   "cell_type": "code",
   "execution_count": null,
   "id": "056a9d3b-8bec-4988-8837-9c29267bf23c",
   "metadata": {},
   "outputs": [],
   "source": [
    "#cari data dengan tag 'td'\n",
    "links = my_table.find_all('td')"
   ]
  },
  {
   "cell_type": "code",
   "execution_count": null,
   "id": "531d994b-9ae5-4269-9555-82bb461189f7",
   "metadata": {},
   "outputs": [],
   "source": [
    "#buatlah lists kosong \n",
    "nama = []\n",
    "luas_km = []\n",
    "populasi10 = []\n",
    "populasi20 = []"
   ]
  },
  {
   "cell_type": "code",
   "execution_count": null,
   "id": "991335b6-2512-42db-8285-24f037eb76f0",
   "metadata": {},
   "outputs": [],
   "source": [
    "#memasukkan data ke dalam list berdasarkan pola HTML\n",
    "for i, link in enumerate(links):\n",
    "\tif i in range(0, len(links), 4):\n",
    "\t\tnama.append(link.get_text().upper()[:-1])\n",
    "\tif i in range(1, len(links), 4):\n",
    "\t\tluas_km.append(link.get_text()[:-1])\n",
    "\tif i in range(2, len(links), 4):\n",
    "\t\tpopulasi10.append(link.get_text()[:-1])\n",
    "\tif i in range(3, len(links), 4):\n",
    "\t\tpopulasi20.append(link.get_text()[:-1])"
   ]
  },
  {
   "cell_type": "code",
   "execution_count": null,
   "id": "d62c775e-e89c-4dd0-9082-cdea7fc6abab",
   "metadata": {},
   "outputs": [],
   "source": [
    "#buatlah DataFrame dan masukkan ke CSV\n",
    "df = pd.DataFrame()\n",
    "df['Nama Provinsi'] = nama\n",
    "df['Luas km'] = luas_km\n",
    "df['Populasi 2010'] = populasi10\n",
    "df['Populasi 2020'] = populasi20"
   ]
  },
  {
   "cell_type": "code",
   "execution_count": null,
   "id": "a79447bb-fced-438a-b11f-636497b1880f",
   "metadata": {},
   "outputs": [],
   "source": [
    "#Simpan kedalam file CSV\n",
    "df.to_csv('Population_by_Province.csv' , index=False, encoding='utf-8', quoting=1)\n",
    "print(df)"
   ]
  }
 ],
 "metadata": {
  "kernelspec": {
   "display_name": "Python 3 (ipykernel)",
   "language": "python",
   "name": "python3"
  },
  "language_info": {
   "codemirror_mode": {
    "name": "ipython",
    "version": 3
   },
   "file_extension": ".py",
   "mimetype": "text/x-python",
   "name": "python",
   "nbconvert_exporter": "python",
   "pygments_lexer": "ipython3",
   "version": "3.10.8"
  }
 },
 "nbformat": 4,
 "nbformat_minor": 5
}
